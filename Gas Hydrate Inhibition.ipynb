{
 "cells": [
  {
   "cell_type": "markdown",
   "metadata": {
    "collapsed": false
   },
   "source": [
    "# Correlation used to determine formation temperature from system pressure"
   ]
  },
  {
   "cell_type": "markdown",
   "metadata": {},
   "source": [
    "#### ![](newcorrelation.PNG)"
   ]
  },
  {
   "cell_type": "markdown",
   "metadata": {},
   "source": [
    "#### Reference: Mohammad ali Ghayyem, Mojtaba Izadmehr*, Rauf Tavakoli,2014,Developing a simple and accurate correlation for initial estimation of hydrate formation temperature of sweet natural gases using an eclectic approach,Journal of Natural Gas Science and Engineering, 21, 1-4"
   ]
  },
  {
   "cell_type": "markdown",
   "metadata": {},
   "source": [
    "##### t is in °F and P is in psia"
   ]
  },
  {
   "cell_type": "markdown",
   "metadata": {},
   "source": [
    "# Bukacek correlation used to determine water content in sweet gas"
   ]
  },
  {
   "cell_type": "markdown",
   "metadata": {},
   "source": [
    "###### ![](bukacek.PNG)"
   ]
  },
  {
   "cell_type": "markdown",
   "metadata": {},
   "source": [
    "###### ![](saturatedvapourpressure.PNG)"
   ]
  },
  {
   "cell_type": "markdown",
   "metadata": {},
   "source": [
    "#### P is in between 1 and 960 bar and T is in between 288.15 K and 511.15 K"
   ]
  },
  {
   "cell_type": "markdown",
   "metadata": {},
   "source": [
    "#### Reference: Alexandre TERRIGEOL , Christophe COQUELET, Antonin CHAPOY,2015,Water content assessment in acid gas,GPA Europe, Annual Conference, 7-8"
   ]
  },
  {
   "cell_type": "markdown",
   "metadata": {},
   "source": [
    "##### P is in MPa and T is in °C"
   ]
  },
  {
   "cell_type": "markdown",
   "metadata": {},
   "source": [
    "# Maddox correlation used to determine water content in sour gas"
   ]
  },
  {
   "cell_type": "markdown",
   "metadata": {},
   "source": [
    "###### ![](maddox.PNG)"
   ]
  },
  {
   "cell_type": "markdown",
   "metadata": {},
   "source": [
    "##### P is in psia and T is in °F"
   ]
  },
  {
   "cell_type": "markdown",
   "metadata": {},
   "source": [
    "###### ![](mt.PNG)"
   ]
  },
  {
   "cell_type": "markdown",
   "metadata": {},
   "source": [
    "#### Reference: Natural Gas Hydrates, 2nd Edition 2009 - A Guide for Engineers (Malestrom),237-241"
   ]
  },
  {
   "cell_type": "markdown",
   "metadata": {},
   "source": [
    "# Hammerschimdt correlation used to determine weight fraction of inhibitor"
   ]
  },
  {
   "cell_type": "markdown",
   "metadata": {},
   "source": [
    "###### ![](hsqw.PNG)"
   ]
  },
  {
   "cell_type": "markdown",
   "metadata": {},
   "source": [
    "##### T is in K, Ks = 1861"
   ]
  },
  {
   "cell_type": "markdown",
   "metadata": {},
   "source": [
    "#### Reference: Natural Gas Hydrates, 2nd Edition 2009 - A Guide for Engineers (Malestrom),113-115"
   ]
  },
  {
   "cell_type": "markdown",
   "metadata": {},
   "source": [
    "## Importing the Datasets and Libraries and defining functions"
   ]
  },
  {
   "cell_type": "code",
   "execution_count": 2,
   "metadata": {
    "collapsed": false
   },
   "outputs": [],
   "source": [
    "import pandas as pd\n",
    "import math\n",
    "from IPython.display import display, Markdown, clear_output\n",
    "import ipywidgets as widgets\n",
    "dfcd = pd.read_excel('maddoxcd.xlsx')\n",
    "dfhs = pd.read_excel('maddoxhs.xlsx')"
   ]
  },
  {
   "cell_type": "code",
   "execution_count": 3,
   "metadata": {
    "collapsed": true
   },
   "outputs": [],
   "source": [
    "unit = widgets.Dropdown(\n",
    "       options=['MPa', 'psia', 'atm'],\n",
    "       description='Unit: ')\n",
    "\n",
    "pressurein = widgets.Text(\n",
    "       value='',\n",
    "       description='Pressure: ', )\n",
    "\n",
    "tempin = widgets.Text(\n",
    "       value='',\n",
    "       description='Source T: ', )\n",
    "\n",
    "tempout = widgets.Text(\n",
    "       value='',\n",
    "       description='Site T: ', )\n",
    "tunit = widgets.Dropdown(\n",
    "       options=['F', 'C', 'K'],\n",
    "       description='Unit: ')\n",
    "\n",
    "inhitwf = widgets.Text(\n",
    "       value='',\n",
    "       description='Weight fraction: ', )\n",
    "inhit = widgets.Dropdown(\n",
    "       options=['Ethylene Glycol', 'Methanol'],\n",
    "       description='Inhibitor: ')"
   ]
  },
  {
   "cell_type": "code",
   "execution_count": 4,
   "metadata": {
    "collapsed": true
   },
   "outputs": [],
   "source": [
    "def systemprature(gasgravity,pressure,unit):\n",
    "    if(unit=='MPa'):\n",
    "        ppsia = pressure*145.038*1.0\n",
    "        pmpa = pressure\n",
    "        pressure = pressure*145.038*1.0\n",
    "    elif(unit=='atm'):\n",
    "        ppsia = pressure*14.7\n",
    "        pmpa = pressure/10.0\n",
    "        pressure = pressure*14.7\n",
    "    elif(unit=='psia'):\n",
    "        ppsia = pressure\n",
    "        pmpa = pressure/(145.038)\n",
    "        pressure = pressure\n",
    "    Temprature = (-26.115) + ((-23.728)/(gasgravity*1.0)) + ((23.942)*(math.log(pressure*1.0))) + ((-0.738)*(math.exp((gasgravity)**(-2.3)))) + ((-1.135)*((math.log(pressure*1.0))**2)) + ((0.443)*(math.log(pressure*1.0))*(math.exp((gasgravity)**(-1.7))))\n",
    "    tink = (Temprature-32)*(5.0/9.0) + 273.15\n",
    "    return Temprature,pmpa,tink,ppsia\n",
    "def buckekinsweetgas(t,p):\n",
    "    tk = t+273.15 #tk in K\n",
    "    #psw = 0.61094*math.exp((17.625*t)/(t+243.04))*(0.001)\n",
    "    psw1 = (10**(-6))*math.exp(73.649- ((7258.2)/tk)-(7.3037*(math.log(tk)))+ (4.1653*(10**(-6))*(tk**2)))\n",
    "    tf = (t*1.8) + 32#tf in F\n",
    "    b = (-3083.87/(491.6 + tf))  + 6.69449\n",
    "    wc = (47484*(psw1/p)) + math.exp(b)\n",
    "    return wc\n",
    "def interpolation(df,t):\n",
    "    if(t<80):\n",
    "        print(\"Error\")\n",
    "    else:        \n",
    "        for i in range(len(df['T'])):\n",
    "            if(t==df['T'][i]):\n",
    "                a0 = df['a0'][i]\n",
    "                a1 = df['a1'][i]\n",
    "                a2 = df['a2'][i]\n",
    "                break\n",
    "            elif(t<df['T'][i]):\n",
    "                x1 = df['T'][i-1]\n",
    "                x2 = df['T'][i]\n",
    "                a0y1 = df['a0'][i-1]\n",
    "                a0y2 = df['a0'][i]\n",
    "                a1y1 = df['a1'][i-1]\n",
    "                a1y2 = df['a1'][i]\n",
    "                a2y1 = df['a2'][i-1]\n",
    "                a2y2 = df['a2'][i]\n",
    "\n",
    "                a0 = ((a0y2-a0y1)/((x2-x1)*1.0))*(t-x1) + a0y1\n",
    "                a1 = ((a1y2-a1y1)/((x2-x1)*1.0))*(t-x1) + a1y1\n",
    "                a2 = ((a2y2-a2y1)/((x2-x1)*1.0))*(t-x1) + a2y1\n",
    "                break\n",
    "    return a0,a1,a2\n",
    "#t in F, p in psia\n",
    "def maddox(t,p,co2,h2s,hc,sweetwc):\n",
    "    a0h2s,a1h2s,a2h2s = interpolation(dfhs,t)\n",
    "    a0co2,a1co2,a2co2 = interpolation(dfcd,t)\n",
    "    whs = 10**(a0h2s  + (a1h2s)*math.log(p,10) + a2h2s*(math.log(p,10)**2))\n",
    "    wcd = 10**(a0co2  + (a1co2)*math.log(p,10) + a2co2*(math.log(p,10)**2))\n",
    "    wc = (hc*sweetwc) + (wcd*co2) + (whs*h2s)\n",
    "    return wc\n",
    "def wtfracofinhibitor(tout,t,molin):\n",
    "    delt = (t - tout) + 5.0\n",
    "    w  =  ((delt*molin)/(1861.0+(delt*molin*1.0)))\n",
    "    return w"
   ]
  },
  {
   "cell_type": "markdown",
   "metadata": {},
   "source": [
    "### Enter the Mole fractions of Components"
   ]
  },
  {
   "cell_type": "code",
   "execution_count": 5,
   "metadata": {
    "collapsed": false
   },
   "outputs": [
    {
     "name": "stdout",
     "output_type": "stream",
     "text": [
      "Methane: \n",
      "Ethane: \n",
      "Propane: \n",
      "Isobutane: 0.6\n",
      "Ethylene: \n",
      "Propylene: \n",
      "Nitrogen: \n",
      "Hydrogen Sulphide: 0.4\n",
      "Carbon Dioxide: \n"
     ]
    }
   ],
   "source": [
    "sum = 0\n",
    "while(sum!=1):\n",
    "    Methane = float(input(\"Methane: \")or\"0\")\n",
    "    Ethane = float(input(\"Ethane: \")or\"0\")\n",
    "    Propane = float(input(\"Propane: \")or\"0\")\n",
    "    Isobutane = float(input(\"Isobutane: \")or\"0\")\n",
    "    Ethylene = float(input(\"Ethylene: \")or\"0\")\n",
    "    Propylene = float(input(\"Propylene: \")or\"0\")\n",
    "    Nitrogen = float(input(\"Nitrogen: \")or\"0\")\n",
    "    H2S = float(input(\"Hydrogen Sulphide: \")or\"0\")\n",
    "    CO2 = float(input(\"Carbon Dioxide: \")or\"0\")\n",
    "    sum = Methane + Ethane + Propane + Isobutane + Ethylene + Propylene + Nitrogen + H2S + CO2\n",
    "    if(sum!=1):\n",
    "        print(\"\\nInvalid input ! Enter again.\")"
   ]
  },
  {
   "cell_type": "markdown",
   "metadata": {},
   "source": [
    "### Input System Pressure of the Pipeline"
   ]
  },
  {
   "cell_type": "code",
   "execution_count": 6,
   "metadata": {
    "collapsed": true
   },
   "outputs": [],
   "source": [
    "display = widgets.HBox([pressurein, unit])\n",
    "display"
   ]
  },
  {
   "cell_type": "markdown",
   "metadata": {},
   "source": [
    "### Input flow rate of Gas"
   ]
  },
  {
   "cell_type": "code",
   "execution_count": 7,
   "metadata": {
    "collapsed": false
   },
   "outputs": [
    {
     "name": "stdout",
     "output_type": "stream",
     "text": [
      "Flow rate gas (Qg) (MMSCFD): 100\n"
     ]
    }
   ],
   "source": [
    "Q = float(input(\"Flow rate gas (Qg) (MMSCFD): \"))"
   ]
  },
  {
   "cell_type": "markdown",
   "metadata": {},
   "source": [
    "### Input Source and Site Temprature"
   ]
  },
  {
   "cell_type": "code",
   "execution_count": 8,
   "metadata": {
    "collapsed": true
   },
   "outputs": [],
   "source": [
    "dis = widgets.VBox([tempin, tempout, tunit ])\n",
    "dis"
   ]
  },
  {
   "cell_type": "markdown",
   "metadata": {},
   "source": [
    "### Input Inhibitor and its Weight fraction"
   ]
  },
  {
   "cell_type": "code",
   "execution_count": 108,
   "metadata": {
    "collapsed": true
   },
   "outputs": [],
   "source": [
    "d = widgets.HBox([inhit, inhitwf ])\n",
    "d"
   ]
  },
  {
   "cell_type": "markdown",
   "metadata": {},
   "source": [
    "### Gas specific gravity and hydrocarbon mole fraction"
   ]
  },
  {
   "cell_type": "code",
   "execution_count": 9,
   "metadata": {
    "collapsed": false
   },
   "outputs": [
    {
     "name": "stdout",
     "output_type": "stream",
     "text": [
      "Gas specific gravity: 1.6747404844290659\n"
     ]
    }
   ],
   "source": [
    "hcmolfrac = Methane + Ethane + Propane + Isobutane + Ethylene + Propylene + Nitrogen\n",
    "gasmolweight = (16.0*Methane) + (30.0*Ethane) + (44.0*Propane) + (58.0*Isobutane) + (28.0*Ethylene)+ (42.0*Propylene)+ (44.0*CO2)+ (34.0*H2S) + (28*Nitrogen)  \n",
    "gasgravity = (gasmolweight*1.0)/(28.9)\n",
    "print(\"Gas specific gravity: \" + str(gasgravity))"
   ]
  },
  {
   "cell_type": "markdown",
   "metadata": {},
   "source": [
    "### Gas Hydrate formation temprature"
   ]
  },
  {
   "cell_type": "code",
   "execution_count": 10,
   "metadata": {
    "collapsed": false
   },
   "outputs": [
    {
     "name": "stdout",
     "output_type": "stream",
     "text": [
      "Gas Hydrate formation temperature: 78.01693069206526°F\n"
     ]
    }
   ],
   "source": [
    "p = float(pressurein.value)\n",
    "u = unit.value\n",
    "t,pmpa,tink,ppsia = systemprature(gasgravity,p,u)\n",
    "print(\"Gas Hydrate formation temperature: \"+str(t) + \"°F\")"
   ]
  },
  {
   "cell_type": "markdown",
   "metadata": {},
   "source": [
    "##### Converting input tempratures to °C"
   ]
  },
  {
   "cell_type": "code",
   "execution_count": 11,
   "metadata": {
    "collapsed": false
   },
   "outputs": [],
   "source": [
    "tin = float(tempin.value)\n",
    "tout = float(tempout.value)\n",
    "Tunit = tunit.value"
   ]
  },
  {
   "cell_type": "code",
   "execution_count": 12,
   "metadata": {
    "collapsed": false
   },
   "outputs": [],
   "source": [
    "if(Tunit=='C'):\n",
    "    tinc = tin\n",
    "    toutc = tout\n",
    "    toutk = toutc + 273.15\n",
    "    tinf = (tinc*1.8) + 32.0\n",
    "    toutf = (toutc*1.8) + 32.0\n",
    "elif(Tunit=='F'):\n",
    "    tinf = tin\n",
    "    toutf = tout\n",
    "    tinc = (tinf-32)*(5.0/9.0)\n",
    "    toutc = (toutf-32)*(5.0/9.0)\n",
    "    toutk = toutc + 273.15\n",
    "elif(Tunit=='K'):\n",
    "    tinc = tin - 273.15\n",
    "    toutc = tout -273.15\n",
    "    toutk = toutc + 273.15\n",
    "    tinf = (tinc*1.8) + 32.0\n",
    "    toutf = (toutc*1.8) + 32.0\n"
   ]
  },
  {
   "cell_type": "markdown",
   "metadata": {},
   "source": [
    "##### Check if hydrate formation inside pipe"
   ]
  },
  {
   "cell_type": "code",
   "execution_count": 113,
   "metadata": {
    "collapsed": false
   },
   "outputs": [
    {
     "name": "stdout",
     "output_type": "stream",
     "text": [
      "Gas hydrate will form inside pipe.\n"
     ]
    }
   ],
   "source": [
    "if(toutf<t<tinf):\n",
    "    print('Gas hydrate will form inside pipe.')\n",
    "else:\n",
    "    print(\"Gas hydrate won't form inside pipe. Change inlet and outlet temperature.\")"
   ]
  },
  {
   "cell_type": "markdown",
   "metadata": {},
   "source": [
    "### Total water content inside pipe"
   ]
  },
  {
   "cell_type": "code",
   "execution_count": 14,
   "metadata": {
    "collapsed": false
   },
   "outputs": [
    {
     "name": "stdout",
     "output_type": "stream",
     "text": [
      "Inlet water content: 76.34570630069572\n",
      "Outlet water content: 76.34570630069572\n"
     ]
    }
   ],
   "source": [
    "sweetin = buckekinsweetgas(tinc,pmpa)\n",
    "sweetout = buckekinsweetgas(toutc,pmpa)\n",
    "if(hcmolfrac==1):\n",
    "    twc = (sweetin - sweetout)*(Q/24.0)\n",
    "    inwc = sweetin\n",
    "    outwc = sweetout\n",
    "else:\n",
    "    maddoxin = maddox(tinf,ppsia,CO2,H2S,hcmolfrac,sweetin)\n",
    "    maddoxout = maddox(toutf,ppsia,CO2,H2S,hcmolfrac,sweetout)\n",
    "    twc = (maddoxin - maddoxout)*(Q/24.0)\n",
    "    inwc = maddoxin\n",
    "    outwc = maddoxout\n",
    "print(\"Inlet water content: \" + str(inwc))\n",
    "print(\"Outlet water content: \" + str(outwc))"
   ]
  },
  {
   "cell_type": "markdown",
   "metadata": {},
   "source": [
    "### Weight fraction of Inhibitor that is needed to be added"
   ]
  },
  {
   "cell_type": "code",
   "execution_count": 117,
   "metadata": {
    "collapsed": false
   },
   "outputs": [
    {
     "name": "stdout",
     "output_type": "stream",
     "text": [
      "Weight fraction of inhibitor required: 0.3713244400687442\n"
     ]
    }
   ],
   "source": [
    "if(inhit.value =='Ethylene Glycol' ):\n",
    "    mm = 62.07\n",
    "else:\n",
    "    mm = 32.04\n",
    "w = wtfracofinhibitor(toutk,tink,mm)\n",
    "print(\"Weight fraction of inhibitor required: \"+str(w))"
   ]
  },
  {
   "cell_type": "markdown",
   "metadata": {},
   "source": [
    "### Mass flow rate of Inhibitor that is needed to be added"
   ]
  },
  {
   "cell_type": "code",
   "execution_count": 118,
   "metadata": {
    "collapsed": false
   },
   "outputs": [
    {
     "name": "stdout",
     "output_type": "stream",
     "text": [
      "Total flow rate of inhibitor required: 3.94\n"
     ]
    }
   ],
   "source": [
    "wf = float(inhitwf.value)\n",
    "Y = ((w*twc)/(wf-w))\n",
    "print(\"Total flow rate of inhibitor required: \"+str(round(Y,2)))"
   ]
  },
  {
   "cell_type": "markdown",
   "metadata": {},
   "source": [
    "## Summarising all the output"
   ]
  },
  {
   "cell_type": "code",
   "execution_count": 120,
   "metadata": {
    "collapsed": false
   },
   "outputs": [
    {
     "data": {
      "text/html": [
       "<div>\n",
       "<table border=\"1\" class=\"dataframe\">\n",
       "  <thead>\n",
       "    <tr style=\"text-align: right;\">\n",
       "      <th></th>\n",
       "      <th>Value</th>\n",
       "    </tr>\n",
       "  </thead>\n",
       "  <tbody>\n",
       "    <tr>\n",
       "      <th>System Pressure</th>\n",
       "      <td>2000.0 psia</td>\n",
       "    </tr>\n",
       "    <tr>\n",
       "      <th>Formation Temperature</th>\n",
       "      <td>62.88 °F</td>\n",
       "    </tr>\n",
       "    <tr>\n",
       "      <th>Inlet Temperature</th>\n",
       "      <td>85.0 °F</td>\n",
       "    </tr>\n",
       "    <tr>\n",
       "      <th>Outlet Temperature</th>\n",
       "      <td>40.0 °F</td>\n",
       "    </tr>\n",
       "    <tr>\n",
       "      <th>Inlet Water Content</th>\n",
       "      <td>18.01 lb/MMSCF</td>\n",
       "    </tr>\n",
       "    <tr>\n",
       "      <th>Outlet Water Content</th>\n",
       "      <td>5.33 lb/MMSCF</td>\n",
       "    </tr>\n",
       "    <tr>\n",
       "      <th>Total Water Content</th>\n",
       "      <td>4.23 lb/hr</td>\n",
       "    </tr>\n",
       "    <tr>\n",
       "      <th>Gas Flow Rate</th>\n",
       "      <td>8.0 MMSCFD</td>\n",
       "    </tr>\n",
       "    <tr>\n",
       "      <th>Inhibitor</th>\n",
       "      <td>Ethylene Glycol</td>\n",
       "    </tr>\n",
       "    <tr>\n",
       "      <th>Inhibitor Weight fraction required</th>\n",
       "      <td>0.37</td>\n",
       "    </tr>\n",
       "    <tr>\n",
       "      <th>Mass flow rate of Inhibitor</th>\n",
       "      <td>3.94 lb/hr</td>\n",
       "    </tr>\n",
       "  </tbody>\n",
       "</table>\n",
       "</div>"
      ],
      "text/plain": [
       "                                               Value\n",
       "System Pressure                         2000.0 psia \n",
       "Formation Temperature                      62.88 °F \n",
       "Inlet Temperature                           85.0 °F \n",
       "Outlet Temperature                          40.0 °F \n",
       "Inlet Water Content                  18.01 lb/MMSCF \n",
       "Outlet Water Content                  5.33 lb/MMSCF \n",
       "Total Water Content                      4.23 lb/hr \n",
       "Gas Flow Rate                            8.0 MMSCFD \n",
       "Inhibitor                            Ethylene Glycol\n",
       "Inhibitor Weight fraction required              0.37\n",
       "Mass flow rate of Inhibitor              3.94 lb/hr "
      ]
     },
     "execution_count": 120,
     "metadata": {},
     "output_type": "execute_result"
    }
   ],
   "source": [
    "variables = ['System Pressure', 'Formation Temperature', 'Inlet Temperature','Outlet Temperature','Inlet Water Content','Outlet Water Content', 'Total Water Content','Gas Flow Rate', 'Inhibitor','Inhibitor Weight fraction required','Mass flow rate of Inhibitor']\n",
    "df = pd.DataFrame(index=variables,columns = ['Value'])\n",
    "df['Value']['System Pressure'] = \" \"+str(round(p,2)) + \" psia \"\n",
    "df['Value']['Formation Temperature'] =\" \"+ str(round(t,2)) + \" °F \"\n",
    "df['Value']['Inlet Temperature'] =\" \"+ str(round(tin,2)) + \" °\" + Tunit + \" \"\n",
    "df['Value']['Outlet Temperature'] =\" \"+ str(round(tout,2)) + \" °\"+Tunit + \" \"\n",
    "df['Value']['Inlet Water Content'] =\" \"+ str(round(inwc,2)) + \" lb/MMSCF \"\n",
    "df['Value']['Outlet Water Content'] =\" \"+ str(round(outwc,2)) + \" lb/MMSCF \"\n",
    "df['Value']['Total Water Content'] =\" \"+ str(round(twc,2)) + \" lb/hr \"\n",
    "df['Value']['Gas Flow Rate'] =\" \"+ str(round(Q,2)) + \" MMSCFD \"\n",
    "df['Value']['Inhibitor'] =\" \"+ inhit.value\n",
    "df['Value']['Inhibitor Weight fraction required'] =\" \"+ str(round(w,2))\n",
    "df['Value']['Mass flow rate of Inhibitor'] = \" \"+str(round(Y,2)) + \" lb/hr \"\n",
    "df"
   ]
  },
  {
   "cell_type": "code",
   "execution_count": null,
   "metadata": {
    "collapsed": true
   },
   "outputs": [],
   "source": []
  }
 ],
 "metadata": {
  "anaconda-cloud": {},
  "kernelspec": {
   "display_name": "Python [default]",
   "language": "python",
   "name": "python3"
  },
  "language_info": {
   "codemirror_mode": {
    "name": "ipython",
    "version": 3
   },
   "file_extension": ".py",
   "mimetype": "text/x-python",
   "name": "python",
   "nbconvert_exporter": "python",
   "pygments_lexer": "ipython3",
   "version": "3.5.2"
  },
  "widgets": {
   "state": {
    "e8a2107821b84c4bb9f57a6dfdaa0ae2": {
     "views": [
      {
       "cell_index": 26
      }
     ]
    },
    "f43332394305478c93d940ce60860a2c": {
     "views": [
      {
       "cell_index": 30
      }
     ]
    }
   },
   "version": "1.2.0"
  }
 },
 "nbformat": 4,
 "nbformat_minor": 2
}
